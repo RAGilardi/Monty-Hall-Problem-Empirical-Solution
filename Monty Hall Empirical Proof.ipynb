{
 "cells": [
  {
   "cell_type": "markdown",
   "id": "673d237e",
   "metadata": {},
   "source": [
    "# Monty Hall Problem Empirical Solution\n",
    "\n",
    "## Premise of this notebook\n",
    "\n",
    "This notebook was written as a self-assignment to train a little my skills in algorithm writing and explaining on 30/04/2023.\n",
    "\n",
    "It aims to explain and prove empirically the solution to the Monty Hall statistical Paradox (Wikipedia page on the problem https://en.wikipedia.org/wiki/Monty_Hall_problem).\n",
    "\n",
    "It's copyright free, you can download it from its GitHub project page at https://github.com/RAGilardi/Monty-Hall-Problem-Empirical-Solution.\n",
    "\n",
    "This complete notebook was written in one session, so the code won't probably be completely optimized and there might be minor errors. If you have any suggestions, please write them in the issue session of the GitHub project at https://github.com/RAGilardi/Monty-Hall-Problem-Empirical-Solution/issues.\n",
    "\n",
    "This notebook will be divided into three main sessions:\n",
    "- First, I will briefly present the problem and its formal solution\n",
    "- Then, I will present a commented code which will explain the logic behind my solution\n",
    "- Finally, I will present an automated version of the first script which will derive the empirical demonstration.\n",
    "\n",
    "\n",
    "## The problem and its explanation\n",
    "Quoting Craig F. Whitaker's letter from Parade magazine (1990):\n",
    "\"Suppose you're on a game show, and you're given the choice of three doors:\n",
    "- Behind one door is a car;\n",
    "- behind the others, goats.\n",
    "\n",
    "You pick a door, say No. 1, and the host, who knows what's behind the doors, opens another door, say No. 3, which has a goat.\n",
    "\n",
    "He then says to you, \"Do you want to pick door No. 2?\" Is it to your advantage to switch your choice?\"\n",
    "\n",
    "### solution:\n",
    "This problem is often referred to as a paradox as the solution is not the most intuitive:\n",
    "\n",
    "It is statistically a safer choice to change the door after the host shows us there is a Goat behind one of the unchosen doors.\n",
    "\n",
    "This is because with the prior knowledge we have (we know initially there were 3 possible choices and we picked a random door), we know it is still true that we had 1/3 of the chances to pick the right door and 2/3 of picking the wrong one.\n",
    "Opening a wrong door doesn't change this probability and when the are presented with the opportunity to change our first pick it's just wrong to think we have a 50/50 chance of winning. We still have a 2/3 probability of having chosen the wrong door in the first place. This probability now is simply \"accumulated\" on the remaining door we didn't pick.\n",
    "\n",
    "The 50/50 probability would apply just to a new player, who didn't know there were initially three closed doors. More on that in the final solution.\n",
    "\n",
    "In my code, for the sake of simplicity, I will always let Monty Hall choose randomly which door to open for us, between the possible unpicked and not winning doors."
   ]
  },
  {
   "cell_type": "markdown",
   "id": "2c68b093",
   "metadata": {},
   "source": [
    "## Explanatory code\n",
    "In this section, I will present a simple Python code with which I will explain the logic behind the algorithm.\n",
    "\n",
    "The function is very verbose and fully commented on.\n",
    "\n",
    "The use I made of numpy.ndarrays (3x3 matrices) is not efficient for the code but allows me to show visually the progress of the solution."
   ]
  },
  {
   "cell_type": "code",
   "execution_count": 215,
   "id": "bfae83dd",
   "metadata": {},
   "outputs": [],
   "source": [
    "import numpy as np\n",
    "import random as rnd\n",
    "#The choice of using numpy arrays other kind of structures is completely arbitrary\n",
    "#Changing it would me a slightly different choice of methods, but wouldn't affect the logic.\n",
    "\n",
    "def testMontyHall(choice, keep):\n",
    "    #the function parameters are the first door choice (from 1 to 3) and whether the player want to change it or not\n",
    "    #the values for keep can be the booleans (True/False) or the string \"rnd\" for a random pick between the two\n",
    "    \n",
    "    #this section is just adding two errors whether the user choose unacceptable parameter\n",
    "    validChoice = {1,2,3}\n",
    "    if choice not in validChoice:\n",
    "        raise ValueError(\"results: choice must be one of %r.\" % validChoice)    \n",
    "    \n",
    "    validKeep = {True,False}\n",
    "    if keep not in validKeep:\n",
    "        raise ValueError(\"results: keep must be one of %r.\" % validKeep)\n",
    "                \n",
    "    #changing the choice variable for readability\n",
    "    choice+=-1\n",
    "    \n",
    "    \n",
    "    ######################################## PROBLEM INITIAL SETTINGS\n",
    "    \n",
    "    #the code will represent the situation with a 3x3 matrix:    \n",
    "    #first row show which door hides the car (1 is the car, 0 is a goat)\n",
    "    #second row show the current pick (1 chosen, 0 not chosen)\n",
    "    #third row show whether a door is open or not (1 open, 0 closed)\n",
    "    print(\"Let's initialize our problem matrix:\")\n",
    "    doors = np.zeros(shape=(3, 3))\n",
    "    print(doors)\n",
    "\n",
    "    #randomly choose the winning door\n",
    "    winner = rnd.randint(0,2)\n",
    "    doors[0,winner] = 1\n",
    "    print(\"\\nAs you can see (first row of the matrix) the winning door was randomly chose to be the number\",winner+1)\n",
    "    print(doors)\n",
    "\n",
    "    #pick the first choice from the function argument\n",
    "    print(\"\\nNow let's note your first pick in the second row of the matrix\")\n",
    "    doors[1,choice] = 1\n",
    "    print(doors)\n",
    "\n",
    "    #this array will list the other available doors which Monty Hall might open without showing you the car\n",
    "    possibleSuggestions = np.array(np.arange(3))\n",
    "    possibleSuggestions = possibleSuggestions[possibleSuggestions != winner]\n",
    "    possibleSuggestions = possibleSuggestions[possibleSuggestions != choice]\n",
    "    #print(\"possible suggestions: \",possibleSuggestions+1)\n",
    "    \n",
    "    \n",
    "    ######################################## GAME\n",
    "\n",
    "    #picking which available losing door will Monty Hall will open for you\n",
    "    suggestion = rnd.choice(possibleSuggestions)\n",
    "    print(\"\\nMonty Hall will now open for you the door number: \",suggestion+1)\n",
    "\n",
    "    print(\"\\nAs we can see from the third row, now the door is open and we can check from first row that it hids a goat\")\n",
    "    doors[2,suggestion] = 1\n",
    "    print(doors)\n",
    "\n",
    "    #this integer will be used in the case of the player changing their first pick\n",
    "    changeMind = np.array(np.arange(3))\n",
    "    changeMind = changeMind[changeMind != suggestion]\n",
    "    changeMind = changeMind[changeMind != choice]\n",
    "    #print(\"nuova scelta:\",changeMind[0]+1)\n",
    "\n",
    "    #this section will show in function of the keep argument if the player won the car or not\n",
    "    if keep:\n",
    "        #we open the player first pick\n",
    "        doors[2,choice] = 1\n",
    "        print(\"\\nYou chose to keep your door, so let's open it!\")\n",
    "        print(doors)\n",
    "        if doors[0,choice] == 1:\n",
    "            print(\"\\nYou Won!\")\n",
    "        else:\n",
    "            print(\"\\nYou Lost!\")\n",
    "    else:\n",
    "        doors[2,changeMind[0]] = 1\n",
    "        doors[1,changeMind[0]] = 1\n",
    "        doors[1,choice] = 0\n",
    "        print(\"\\nYou chose to change your door, so open the other one available!\")\n",
    "        print(doors)\n",
    "        #a simple way to know if the player won is by counting between how many unpicked Monty Hall might have chose\n",
    "        #if the player chose the right door from the beginning, Monty might have picked any of the two other doors to open\n",
    "        if len(possibleSuggestions) == 2:\n",
    "            print(\"\\nYou Lost!\")\n",
    "        else:\n",
    "            print(\"\\nYou Won!\")\n",
    "            \n",
    "    return 0"
   ]
  },
  {
   "cell_type": "markdown",
   "id": "fc9c446b",
   "metadata": {},
   "source": [
    "Now you can play a little with this function trying to see what happens changing the parameters and if you will win or not!"
   ]
  },
  {
   "cell_type": "code",
   "execution_count": 216,
   "id": "30a07ea5",
   "metadata": {},
   "outputs": [
    {
     "name": "stdout",
     "output_type": "stream",
     "text": [
      "Let's initialize our problem matrix:\n",
      "[[0. 0. 0.]\n",
      " [0. 0. 0.]\n",
      " [0. 0. 0.]]\n",
      "\n",
      "As you can see (first row of the matrix) the winning door was randomly chose to be the number 2\n",
      "[[0. 1. 0.]\n",
      " [0. 0. 0.]\n",
      " [0. 0. 0.]]\n",
      "\n",
      "Now let's note your first pick in the second row of the matrix\n",
      "[[0. 1. 0.]\n",
      " [1. 0. 0.]\n",
      " [0. 0. 0.]]\n",
      "\n",
      "Monty Hall will now open for you the door number:  3\n",
      "\n",
      "As we can see from the third row, now the door is open and we can check from first row that it hids a goat\n",
      "[[0. 1. 0.]\n",
      " [1. 0. 0.]\n",
      " [0. 0. 1.]]\n",
      "\n",
      "You chose to change your door, so open the other one available!\n",
      "[[0. 1. 0.]\n",
      " [0. 1. 0.]\n",
      " [0. 1. 1.]]\n",
      "\n",
      "You Won!\n"
     ]
    }
   ],
   "source": [
    "#choose between 1,2 and 3 for choice and between True, False for keep\n",
    "testMontyHall(choice=1,keep=False);"
   ]
  },
  {
   "cell_type": "markdown",
   "id": "2653d502",
   "metadata": {},
   "source": [
    "## Empirical solution\n",
    "\n",
    "In this final section, we will use a similar, and slightly more optimized, code iteratively, showing that with a larger number of repetitions we will have a win rate always closer:\n",
    "- to 2/3 (66,7%) if we always choose to change our first pick\n",
    "- to 1/3 (33,3%) if we never choose to change our first pick\n",
    "- to 1/2 (50%) if we randomly choose what to do (as a player with no prior information might do)"
   ]
  },
  {
   "cell_type": "code",
   "execution_count": 217,
   "id": "49af7df7",
   "metadata": {},
   "outputs": [],
   "source": [
    "import numpy as np\n",
    "import random as rnd\n",
    "\n",
    "def MontyHall(keep):\n",
    "       \n",
    "    #randomly chooses for you whether you keep or not the door you first picked\n",
    "    if keep == \"rnd\":\n",
    "        keep = rnd.choice([True,False])\n",
    "    \n",
    "    ######################################## PROBLEM INITIAL SETTINGS\n",
    "        \n",
    "    choice = rnd.randint(0,2) \n",
    "    \n",
    "    doors = np.zeros(shape=(2, 3))\n",
    "\n",
    "    winner = rnd.randint(0,2)\n",
    "    doors[0,winner] = 1\n",
    "\n",
    "    doors[1,choice] = 1\n",
    "\n",
    "    possibleSuggestions = np.array(np.arange(3))\n",
    "    possibleSuggestions = possibleSuggestions[possibleSuggestions != winner]\n",
    "    possibleSuggestions = possibleSuggestions[possibleSuggestions != choice]\n",
    "    \n",
    "    result = True\n",
    "    \n",
    "    ######################################## GAME\n",
    "\n",
    "    suggestion = rnd.choice(possibleSuggestions)\n",
    "\n",
    "    changeMind = np.array(np.arange(3))\n",
    "    changeMind = changeMind[changeMind != suggestion]\n",
    "    changeMind = changeMind[changeMind != choice]\n",
    "\n",
    "    if keep:\n",
    "        if doors[0,choice] == 0:\n",
    "            result = False\n",
    "    else:\n",
    "        if len(possibleSuggestions) == 2:\n",
    "            result = False\n",
    "            \n",
    "    return result"
   ]
  },
  {
   "cell_type": "code",
   "execution_count": 218,
   "id": "0e59e5e1",
   "metadata": {},
   "outputs": [],
   "source": [
    "def MontyHallResult(repetitions, keep):\n",
    "\n",
    "    # ERROR CHECKS    \n",
    "    if repetitions < 1:\n",
    "        raise ValueError(\"results: the game must be run at least one time\")\n",
    "        \n",
    "    if isinstance(repetitions, int)==False:\n",
    "        raise ValueError(\"results: the repetition argument must be an integer\")\n",
    "        \n",
    "    validKeep = {True,False,\"rnd\"}\n",
    "    if keep not in validKeep:\n",
    "        raise ValueError(\"results: keep must be one of %r.\" % validKeep)    \n",
    "    \n",
    "    # CODE\n",
    "    totalWins = 0\n",
    "    \n",
    "    for i in range(repetitions):\n",
    "        result = MontyHall(keep)\n",
    "        \n",
    "        if result == True:\n",
    "            totalWins += 1\n",
    "    \n",
    "    print(\"Total wins: \", totalWins)\n",
    "    print(\"Win percentage: \", totalWins/repetitions*100)"
   ]
  },
  {
   "cell_type": "markdown",
   "id": "83b9666f",
   "metadata": {},
   "source": [
    "## Results\n",
    "If you want to play with the final function, choose how many times you want to repeat the game and choose between True, False and \"rnd\""
   ]
  },
  {
   "cell_type": "code",
   "execution_count": 222,
   "id": "be61f2e7",
   "metadata": {},
   "outputs": [
    {
     "name": "stdout",
     "output_type": "stream",
     "text": [
      "Total wins:  3389\n",
      "Win percentage:  33.89\n"
     ]
    }
   ],
   "source": [
    "#Always keep the first pick case\n",
    "MontyHallResult(repetitions=10000,keep=True);"
   ]
  },
  {
   "cell_type": "code",
   "execution_count": 220,
   "id": "8a53c768",
   "metadata": {},
   "outputs": [
    {
     "name": "stdout",
     "output_type": "stream",
     "text": [
      "Total wins:  6660\n",
      "Win percentage:  66.60000000000001\n"
     ]
    }
   ],
   "source": [
    "#Always change your pick case\n",
    "MontyHallResult(repetitions=10000,keep=False);"
   ]
  },
  {
   "cell_type": "code",
   "execution_count": 221,
   "id": "b1db0364",
   "metadata": {},
   "outputs": [
    {
     "name": "stdout",
     "output_type": "stream",
     "text": [
      "Total wins:  4961\n",
      "Win percentage:  49.61\n"
     ]
    }
   ],
   "source": [
    "#Randomly choose whether to change or not your first pick\n",
    "MontyHallResult(repetitions=10000,keep=\"rnd\");"
   ]
  },
  {
   "cell_type": "code",
   "execution_count": null,
   "id": "24fc06c3",
   "metadata": {},
   "outputs": [],
   "source": []
  }
 ],
 "metadata": {
  "kernelspec": {
   "display_name": "Python 3 (ipykernel)",
   "language": "python",
   "name": "python3"
  },
  "language_info": {
   "codemirror_mode": {
    "name": "ipython",
    "version": 3
   },
   "file_extension": ".py",
   "mimetype": "text/x-python",
   "name": "python",
   "nbconvert_exporter": "python",
   "pygments_lexer": "ipython3",
   "version": "3.10.4"
  }
 },
 "nbformat": 4,
 "nbformat_minor": 5
}
